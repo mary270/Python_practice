{
  "nbformat": 4,
  "nbformat_minor": 0,
  "metadata": {
    "colab": {
      "provenance": [],
      "authorship_tag": "ABX9TyNvLQO0qorYWTjeF74yJe4B",
      "include_colab_link": true
    },
    "kernelspec": {
      "name": "python3",
      "display_name": "Python 3"
    },
    "language_info": {
      "name": "python"
    }
  },
  "cells": [
    {
      "cell_type": "markdown",
      "metadata": {
        "id": "view-in-github",
        "colab_type": "text"
      },
      "source": [
        "<a href=\"https://colab.research.google.com/github/mary270/Python_practice/blob/main/min_max_key.ipynb\" target=\"_parent\"><img src=\"https://colab.research.google.com/assets/colab-badge.svg\" alt=\"Open In Colab\"/></a>"
      ]
    },
    {
      "cell_type": "code",
      "execution_count": null,
      "metadata": {
        "id": "8wwRetU7v6SE"
      },
      "outputs": [],
      "source": [
        "def Find_max_min_k(tup,K):\n",
        "    tup = (tup)\n",
        "    list = tup  #converting tuples to list\n",
        "    temp = sorted(list) # sort the list with sorted\n",
        "    result = (temp[:K] + temp[-K:]) #finding maximum and minimum with help of slicing\n",
        "    tuple = result\n",
        "  \n",
        "    #print(\"minimum and max values in tuples : \",tuple)\n",
        "    print(\"K maximum and minimum values : \", str(tuple))\n",
        "    \n",
        "tup = (2,7,5,0,1,6,12,16,17)\n",
        "K = 2  # min max with key=2\n",
        "print(\"the coma-separated tuple : \", tup)\n",
        "Find_max_min_k(tup,K)"
      ]
    }
  ]
}